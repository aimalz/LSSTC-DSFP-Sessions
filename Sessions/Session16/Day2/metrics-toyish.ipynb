{
 "cells": [
  {
   "cell_type": "markdown",
   "id": "f53c781c",
   "metadata": {},
   "source": [
    "# Model selection & comparison\n",
    "\n",
    "_Alex Malz (LINCC@CMU)_\n",
    "_LSSTC Data Science Fellowship Program_"
   ]
  },
  {
   "cell_type": "code",
   "execution_count": null,
   "id": "774035bb",
   "metadata": {},
   "outputs": [],
   "source": [
    "from astropy import cosmology as apcosmo\n",
    "from astropy import constants as apconst\n",
    "import numpy as np\n",
    "import scipy.stats as sps"
   ]
  },
  {
   "cell_type": "code",
   "execution_count": null,
   "id": "f7492099",
   "metadata": {},
   "outputs": [],
   "source": [
    "import matplotlib as mpl\n",
    "import matplotlib.pyplot as plt"
   ]
  },
  {
   "cell_type": "markdown",
   "id": "ad8463ac",
   "metadata": {},
   "source": [
    "## Overview\n",
    "\n",
    "Let's try to infer the cosmological parameters from redshifts and distances to Type Ia SNe.\n",
    "This problem is adapted from [Supernova Cosmology Inference with Probabilistic Photometric Redshifts (SCIPPR)](https://github.com/aimalz/scippr), specifically the [forward model](https://github.com/aimalz/scippr/blob/master/code/demos/Simulation.ipynb) and [posterior inference](https://github.com/aimalz/scippr/blob/master/code/demos/Inference.ipynb) procedures."
   ]
  },
  {
   "cell_type": "markdown",
   "id": "20b78784",
   "metadata": {},
   "source": [
    "### Data\n",
    "\n",
    "First, we need to make some mock data!"
   ]
  },
  {
   "cell_type": "code",
   "execution_count": null,
   "id": "f5ed94de",
   "metadata": {},
   "outputs": [],
   "source": [
    "# Planck values\n",
    "prior_H0 = sps.norm(loc=67.4, scale=0.5)\n",
    "prior_Om0 = sps.norm(loc=0.315, scale=0.007)\n",
    "true_H0 = prior_H0.rvs()\n",
    "true_Om0 = prior_Om0.rvs()\n",
    "print(f'$H_{{0}}^{{true}}=${true_H0}, $\\Omega_{{m}}^{{true}}=${true_Om0}')\n",
    "true_cosmo = apcosmo.FlatLambdaCDM(H0=true_H0, Om0=true_Om0)"
   ]
  },
  {
   "cell_type": "code",
   "execution_count": null,
   "id": "d8236d56",
   "metadata": {},
   "outputs": [],
   "source": [
    "# def nz_func(z, c=0.3):\n",
    "#     return 1./(2.*c) * (z/c)**2 * np.exp(-1. * z/c)\n",
    "nz_true = sps.gamma(3, scale=0.3)\n",
    "zs_true = nz_true.rvs(100)"
   ]
  },
  {
   "cell_type": "code",
   "execution_count": null,
   "id": "44a533dd",
   "metadata": {},
   "outputs": [],
   "source": [
    "plt.hist(zs_true);\n",
    "plt.xlabel(r'$z$')\n",
    "plt.title('SNIa redshift distribution')"
   ]
  },
  {
   "cell_type": "code",
   "execution_count": null,
   "id": "f35b0667",
   "metadata": {},
   "outputs": [],
   "source": [
    "mus_true = true_cosmo.distmod(zs_true).value"
   ]
  },
  {
   "cell_type": "code",
   "execution_count": null,
   "id": "1da5959e",
   "metadata": {},
   "outputs": [],
   "source": [
    "plt.scatter(zs_true, mus_true)\n",
    "plt.xlabel(r'$z$')\n",
    "plt.ylabel(r'$\\mu$')\n",
    "plt.title('true Hubble diagram')"
   ]
  },
  {
   "cell_type": "markdown",
   "id": "1f0c2709",
   "metadata": {},
   "source": [
    "There's some code to complicate things by allowing errors on the \"independent\" variable, which isn't really so independent in this case, but it would mean that the frequentist metrics don't apply, so let's leave it out for now."
   ]
  },
  {
   "cell_type": "code",
   "execution_count": null,
   "id": "9ecab7e5",
   "metadata": {},
   "outputs": [],
   "source": [
    "# bias_lsst = 0.003\n",
    "# scatter_lsst = 0.02\n",
    "# outlier_lsst = 0.1\n",
    "\n",
    "z_min = 0.\n",
    "z_max = 3.\n",
    "# z_norm_low_true = (z_min - zs_true - bias_lsst * (1 + zs_true)) / (scatter_lsst * (1+zs_true))\n",
    "# z_norm_high_true = (z_max - zs_true - bias_lsst * (1 + zs_true)) / (scatter_lsst * (1+zs_true))\n",
    "# zs_pdf_true = sps.truncnorm(z_norm_low_true, z_norm_high_true, loc=zs_true+bias_lsst, scale=scatter_lsst*(1+zs_true))\n",
    "# zs_obs = zs_pdf_true.rvs()\n",
    "# z_norm_low_obs = (z_min - zs_obs - bias_lsst * (1 + zs_obs)) / (scatter_lsst * (1+zs_obs))\n",
    "# z_norm_high_obs = (z_max - zs_obs - bias_lsst * (1 + zs_obs)) / (scatter_lsst * (1+zs_obs))\n",
    "# zs_pdf_obs = sps.truncnorm(z_norm_low_obs, z_norm_high_obs, loc=zs_obs+bias_lsst, scale=scatter_lsst*(1+zs_obs))\n",
    "# zs_est = zs_pdf_obs.rvs()\n",
    "zs_est = zs_true"
   ]
  },
  {
   "cell_type": "code",
   "execution_count": null,
   "id": "3208cd1f",
   "metadata": {},
   "outputs": [],
   "source": [
    "# plt.scatter(zs_true, zs_est)\n",
    "# plt.xlabel(r'$z_{true}$')\n",
    "# plt.ylabel(r'$z_{obs}$')\n",
    "# plt.title('redshift uncertainties')"
   ]
  },
  {
   "cell_type": "code",
   "execution_count": null,
   "id": "c2778923",
   "metadata": {},
   "outputs": [],
   "source": [
    "mus_err = (1. + zs_est) / z_max\n",
    "mus_err_dist = sps.norm(loc=mus_true, scale=mus_err)\n",
    "mus_obs = mus_err_dist.rvs()\n",
    "mus_pdf_obs = sps.norm(loc=mus_obs, scale=mus_err)"
   ]
  },
  {
   "cell_type": "code",
   "execution_count": null,
   "id": "bf18ebf2",
   "metadata": {},
   "outputs": [],
   "source": [
    "plt.scatter(mus_true, mus_obs)\n",
    "plt.xlabel(r'$\\mu_{true}$')\n",
    "plt.ylabel(r'$\\mu_{obs}$')\n",
    "plt.title('distance modulus uncertainties')"
   ]
  },
  {
   "cell_type": "code",
   "execution_count": null,
   "id": "71c410a0",
   "metadata": {},
   "outputs": [],
   "source": [
    "plt.errorbar(zs_est, mus_obs, #xerr=scatter_lsst*(1.+zs_est), \n",
    "             yerr=mus_err, fmt='.')\n",
    "plt.xlabel(r'$z$')\n",
    "plt.ylabel(r'$\\mu$')\n",
    "plt.title('observed Hubble diagram')"
   ]
  },
  {
   "cell_type": "markdown",
   "id": "54a85323",
   "metadata": {},
   "source": [
    "### Models"
   ]
  },
  {
   "cell_type": "code",
   "execution_count": null,
   "id": "dc7ae313",
   "metadata": {},
   "outputs": [],
   "source": [
    "z_grid = np.linspace(z_min, z_max, 100)\n",
    "est_H0 = prior_H0.rvs()\n",
    "est_Om0 = prior_Om0.rvs()\n",
    "est_cosmo = apcosmo.FlatLambdaCDM(H0=est_H0, Om0=est_Om0)\n",
    "mus_est = est_cosmo.distmod(z_grid).value"
   ]
  },
  {
   "cell_type": "code",
   "execution_count": null,
   "id": "2552c089",
   "metadata": {},
   "outputs": [],
   "source": [
    "prior_w0 = sps.norm(loc=0.89, scale=0.13)\n",
    "new_cosmo = apcosmo.wCDM(est_H0, est_Om0, 1.-est_Om0, w0=prior_w0.rvs())\n",
    "mus_new = new_cosmo.distmod(z_grid).value"
   ]
  },
  {
   "cell_type": "code",
   "execution_count": null,
   "id": "fe16a5f2",
   "metadata": {},
   "outputs": [],
   "source": [
    "plt.errorbar(zs_est, mus_obs, #xerr=scatter_lsst*(1.+zs_est), \n",
    "             yerr=mus_err, fmt='.', c='k', alpha=0.5)\n",
    "plt.plot(z_grid, true_cosmo.distmod(z_grid).value, label='true model')\n",
    "plt.plot(z_grid, mus_est, label='estimated model')\n",
    "plt.plot(z_grid, mus_new, label='misspecified model')\n",
    "plt.xlabel(r'$z$')\n",
    "plt.ylabel(r'$\\mu$')\n",
    "plt.title('observed Hubble diagram with models')"
   ]
  },
  {
   "cell_type": "markdown",
   "id": "1b74878e",
   "metadata": {},
   "source": [
    "## Frequentist model comparison: Goodness-of-fit & hypothesis testing"
   ]
  },
  {
   "cell_type": "markdown",
   "id": "0ab41c36",
   "metadata": {},
   "source": [
    "### Problem 0a\n",
    "\n",
    "Implement a function calculating the reduced $\\chi^{2} = \\sum_{i=1}^{N}\\left(\\frac{y_{i} - M_{i}(\\theta)}{\\sigma_{i}}\\right)^{2}$ and calculate the $\\chi^{2}$ for the two models.\n",
    "Hint: use the function you wrote yesterday."
   ]
  },
  {
   "cell_type": "code",
   "execution_count": null,
   "id": "180ea8c8",
   "metadata": {},
   "outputs": [],
   "source": [
    "# def chi_sq(model, xvals, yvals_obs, yerrs_obs):\n",
    "#     \"\"\"\n",
    "#     Calculates the $chi^{2}$ statistic\n",
    "    \n",
    "#     Parameters\n",
    "#     ----------\n",
    "#     model: function\n",
    "#         function taking xvals and producing yvals\n",
    "#     xvals: array, float\n",
    "#         values of the independent variable at which yvals_obs were measured\n",
    "#     yvals_obs: array, float\n",
    "#         values of the dependent variable at xvals\n",
    "#     yerrs_obs:\n",
    "#         errors on dependent variable observations\n",
    "        \n",
    "#     Returns\n",
    "#     -------\n",
    "#     chi_sq: float\n",
    "#         value of the $\\chi^{2}$ statistic\n",
    "#     \"\"\""
   ]
  },
  {
   "cell_type": "code",
   "execution_count": null,
   "id": "8a80b1ad",
   "metadata": {},
   "outputs": [],
   "source": [
    "# print(chi_sq(est_cosmo, zs_est, mus_obs, mus_err))\n",
    "# print(chi_sq(new_cosmo, zs_est, mus_obs, mus_err))\n",
    "\n",
    "# make a grid of values for cosmological parameters, plot both on same axes at all points"
   ]
  },
  {
   "cell_type": "markdown",
   "id": "1a09f7e5",
   "metadata": {},
   "source": [
    "### Problem 0b\n",
    "\n",
    "Minimize the $\\chi^{2}$ to find the maximum likelihood estimator of the cosmological parameters.\n",
    "Hint: use `scipy.optimize.minimize()`"
   ]
  },
  {
   "cell_type": "code",
   "execution_count": null,
   "id": "adcdc927",
   "metadata": {},
   "outputs": [],
   "source": [
    "# hint: use scipy.optimize.minimize()"
   ]
  },
  {
   "cell_type": "markdown",
   "id": "2a15dcc8",
   "metadata": {},
   "source": [
    "### Hypothesis test\n",
    "\n",
    "(Apologies, I didn't leave time to flesh this out!\n",
    "But you can do a $p$-test on the $\\chi^{2}$ likelihood and see how different models or parameter choices perform.)"
   ]
  },
  {
   "cell_type": "code",
   "execution_count": null,
   "id": "39e0ec13",
   "metadata": {},
   "outputs": [],
   "source": []
  },
  {
   "cell_type": "markdown",
   "id": "e8dd415f",
   "metadata": {},
   "source": [
    "### Problem 0c\n",
    "\n",
    "Take MCMC samples under each of the models assuming the Gaussian $\\chi^{2}$ likelihood and a prior of your choice (e.g. from a recent paper on arXiv) to sample the posterior.\n",
    "Hint: use what you wrote earlier today."
   ]
  },
  {
   "cell_type": "code",
   "execution_count": null,
   "id": "60719ade",
   "metadata": {},
   "outputs": [],
   "source": []
  },
  {
   "cell_type": "markdown",
   "id": "860f1998",
   "metadata": {},
   "source": [
    "## Model comparison\n",
    "\n",
    "There are a number of information criteria used to compare models, which are covered in Adam Mantz's notebook from a previous year.\n",
    "To be honest, I've never seen anyone use them in the literature in cosmology at least, so I'll refer you there if you want to see them in action on toy data."
   ]
  },
  {
   "cell_type": "markdown",
   "id": "14836774",
   "metadata": {},
   "source": [
    "## Fisher information\n",
    "\n",
    "When there are multiple dimensions of parameters, they may not be independent with respect to the $\\chi^{2}$ likelihood, and their degeneracies can be described by the Fisher matrix $F_{ij} = \\frac{1}{2}\\frac{\\partial^{2}}{\\partial\\theta_{i}\\partial\\theta_{j}}\\chi^{2}(M, \\theta)$.\n",
    "We'll explore the Fisher matrix for the cosmological parameters from SNIa data, following [code](https://github.com/COINtoolbox/RESSPECT/blob/master/resspect/cosmo_metric_utils.py) developed by [Kara Ponder](https://medium.com/noodle-labs-the-future-of-ai/supernovae-to-customer-success-a-data-science-journey-499c94593189) for the [REcommendation System for SPECTroscopic follow-up (ReSSPect)](https://cosmostatistics-initiative.org/resspect/), but I hear there's an out-of-the-box version already in `scipy`."
   ]
  },
  {
   "cell_type": "markdown",
   "id": "06a94536",
   "metadata": {},
   "source": [
    "### Problem 1a\n",
    "\n",
    "Implement a function empirically calculating the Fisher matrix $F$.\n",
    "When is $F^{-1}_{i,j} = \\sigma_{i}\\sigma_{j}$? (When likelihood is Gaussian)"
   ]
  },
  {
   "cell_type": "code",
   "execution_count": null,
   "id": "a13a5f47",
   "metadata": {},
   "outputs": [],
   "source": [
    "def assign_cosmo(cosmo, model=[70, 0.3, 0.7, -0.9, 0.0]):\n",
    "    \"\"\"Define a new cosmology model.\n",
    "    Parameters\n",
    "    ----------\n",
    "    cosmo: astropy.cosmology Cosmology Object\n",
    "        Assumes original cosmology was astropy.cosmology.w0waCDM.\n",
    "    model: list (optional)\n",
    "        Cosmology parameters: [H0, Om, Ode, w0, wa].\n",
    "        Default is [70, 0.3, 0.7, -0.9, 0.0].\n",
    "        Hard code Ob0 (Omega baryons) = 0.022\n",
    "    Returns\n",
    "    -------\n",
    "    newcosmo: astropy.cosmology Cosmology Object\n",
    "        New Cosmology Object with updated cosmology parameters\n",
    "    \"\"\"\n",
    "\n",
    "    ob0 = 0.022\n",
    "    om0 = model[1]\n",
    "    ode0 = model[2]\n",
    "\n",
    "#     newcosmo = cosmo.clone(name='temp cosmo', H0=model[0], Ob0=ob0,\n",
    "#                            Om0=om0, Ode0=ode0, w0=model[3], wa=model[4])\n",
    "    \n",
    "    newcosmo = apcosmo.w0waCDM(model[0], ob0, om0, ode0, model[3], model[4])\n",
    "\n",
    "    return newcosmo\n",
    "\n",
    "def fisher_results(redshift, mu_err, \n",
    "                   param_names=['hubble', 'omega_m', 'omega_de', 'w0', 'wa'], \n",
    "                   fid_params=[70., 0.3, 0.7, -1.0, 0.]):\n",
    "    \"\"\"Computes the Fisher Matrix. Assumes we only care about Om and w0.\n",
    "    TBD: make stepvec an input.\n",
    "    TBD: Priors as inputs?\n",
    "    Parameters\n",
    "    ----------\n",
    "    redshift: list [float]\n",
    "        Redshift.\n",
    "    mu_err: list [float]\n",
    "        Error in distance modulus.\n",
    "    Returns\n",
    "    -------\n",
    "    sigma: list\n",
    "        Error/Standard deviation of Om and w0, respectively.\n",
    "    covmat: np.array [2, 2]\n",
    "        Covariance matrix of Om and w0. Om is first row, w0 is second.\n",
    "    \"\"\"\n",
    "    if any(np.array(redshift) < 0):\n",
    "        raise ValueError('Redshift must be greater than zero! Galaxies must be moving away.')\n",
    "\n",
    "    stepvec = np.array([0, 0.001, 0.00, 0.1, 0., 0.0, 0.0, 0.0])\n",
    "\n",
    "    model = fid_params\n",
    "    names = param_names\n",
    "\n",
    "    step_inds = np.where(stepvec)[0]\n",
    "    fishermu, deriv = fish_deriv_m(redshift, model, stepvec)\n",
    "\n",
    "    cov = np.diag(mu_err**2)\n",
    "    inv_cov = np.diag(1./mu_err**2.)\n",
    "\n",
    "    # Initialising the Fisher Matrix\n",
    "    FM = np.zeros((len(step_inds), len(step_inds), len(mu_err) ))\n",
    "\n",
    "\n",
    "    # Compute the Fisher matrix\n",
    "    for i in range(len(step_inds)):\n",
    "        # loop over variables\n",
    "        for j in range(len(step_inds)):\n",
    "            # loop over variables\n",
    "            for k in range(len(redshift)):\n",
    "                # loop over redshifts\n",
    "                invcov = inv_cov[k,k]\n",
    "                FM[i,j,k] = np.dot(np.dot(deriv[k, step_inds[i]], invcov), deriv[k, step_inds[j]])\n",
    "\n",
    "    # sum over the redshift direction\n",
    "    fishmat = np.sum(FM,axis=2)\n",
    "\n",
    "    # Compute the prior matrix\n",
    "    prior_vec = np.array([0.1, 0.02, 0.0006, 0.2, 0.2])\n",
    "    priormat = np.diag(1./prior_vec[step_inds]**2.)\n",
    "\n",
    "    final_FM = fishmat + priormat\n",
    "    covmat = np.linalg.inv(final_FM)\n",
    "    sigma = np.sqrt(covmat.diagonal())\n",
    "\n",
    "    return sigma, covmat\n",
    "\n",
    "def fish_deriv_m(redshift, model, step, screen=False):\n",
    "    \"\"\"Calculates the derivatives and the base function at given redshifts.\n",
    "    Parameters\n",
    "    ----------\n",
    "    redshift: float or list\n",
    "        Redshift where derivatives will be calculated.\n",
    "    model: list\n",
    "        List of cosmological model parameters.\n",
    "        Order is [H0, Om, Ode, w0, wa].\n",
    "    step: list\n",
    "        List of steps the cosmological model parameter will take when determining\n",
    "         the derivative.\n",
    "        If a given entry is zero, that parameter will be kept constant.\n",
    "        Length must match the number of parameters in \"model\" variable.\n",
    "    screen: bool (optional)\n",
    "        Print debug options to screen. Default is False.\n",
    "    Returns\n",
    "    -------\n",
    "    m: list\n",
    "        List of theoretical distance modulus (mu) at a given redshift from\n",
    "         the base cosmology.\n",
    "    m_deriv: list [len(redshift), len(model)]\n",
    "        List of parameter derivatives of the likelihood function\n",
    "         at given redshifts.\n",
    "    \"\"\"\n",
    "    \n",
    "    Ob0 = 0.022\n",
    "    Om0 = model[1]\n",
    "    Ode0 = model[2]\n",
    "    cosmo = apcosmo.w0waCDM(model[0], Ob0, Om0, Ode0, model[3],model[4])\n",
    "\n",
    "    cosmo=assign_cosmo(cosmo, model)\n",
    "\n",
    "    m = []\n",
    "    m_deriv = []\n",
    "    c = apconst.c.to('km/s')\n",
    "    base_theory = cosmo.distmod(redshift)\n",
    "    m = base_theory.value\n",
    "    step_inds = np.where(step)[0] # look for non-zero step indices\n",
    "    deriv = np.zeros((len(base_theory), len(model)))\n",
    "\n",
    "    if (step_inds.size==0):\n",
    "        print('No steps taken, abort')\n",
    "        exit\n",
    "\n",
    "    else:\n",
    "        if screen:\n",
    "            print('\\n')\n",
    "            print('Computing Fisher derivatives...')\n",
    "\n",
    "        for i, stepp in enumerate(step_inds):\n",
    "            if screen:\n",
    "                print('we are stepping in :', model[stepp], \n",
    "                      ' with step size', step[stepp])\n",
    "            cosmo = assign_cosmo(cosmo, model)\n",
    "\n",
    "            theory = np.zeros((len(base_theory),2))\n",
    "            for count,j  in enumerate([-1,1]):\n",
    "\n",
    "                tempmodel = list(model)\n",
    "                tempmodel[stepp] = model[stepp] + j*step[stepp]\n",
    "                c = apconst.c.to('km/s')\n",
    "                cosmo = assign_cosmo(cosmo, tempmodel)\n",
    "                tmp = cosmo.distmod(redshift)\n",
    "                theory[:,count] = tmp\n",
    "\n",
    "            deriv[:,stepp] = (theory[:,1] - theory[:,0])/(2.*step[stepp])\n",
    "\n",
    "    m_deriv = deriv\n",
    "\n",
    "    return m, m_deriv"
   ]
  },
  {
   "cell_type": "code",
   "execution_count": null,
   "id": "0dd8fc88",
   "metadata": {},
   "outputs": [],
   "source": [
    "fishmat = fisher_results(zs_est, mus_err)\n",
    "fishmat"
   ]
  },
  {
   "cell_type": "markdown",
   "id": "4ea9be7e",
   "metadata": {},
   "source": [
    "### Problem 1b\n",
    "\n",
    "Building on the above, do the same for another cosmology model (`apcosmo.FlatLambdaCDM`) or allowing other parameters to vary."
   ]
  },
  {
   "cell_type": "code",
   "execution_count": null,
   "id": "1a9c6b9f",
   "metadata": {},
   "outputs": [],
   "source": []
  },
  {
   "cell_type": "markdown",
   "id": "e4c699af",
   "metadata": {},
   "source": [
    "### Problem 1c\n",
    "\n",
    "Implement a function that plots error ellipses given a Fisher matrix.\n",
    "This is a useful thing to have around -- I'm still recycling code I wrote to do this in grad school!"
   ]
  },
  {
   "cell_type": "code",
   "execution_count": null,
   "id": "46009870",
   "metadata": {},
   "outputs": [],
   "source": [
    "def fisher_to_ellipse(fisher):\n",
    "    diag_elems = np.diag(fisher)\n",
    "    term1 = (diag_elems[:, np.newaxis] + diag_elems[np.newaxis, :]) / 2.\n",
    "    term2 = np.sqrt((diag_elems[:, np.newaxis] - diag_elems[np.newaxis, :])**2 / 4. + fisher * fisher.T)\n",
    "    a = np.sqrt(term1 + term2)\n",
    "    b = np.sqrt(term1 - term2)\n",
    "    t = np.arctan((fisher + fisher.T) / np.abs(diag_elems[:, np.newaxis] - diag_elems[np.newaxis, :])) / 2.\n",
    "    try:\n",
    "        assert(np.all(a >= 0.))\n",
    "    except:\n",
    "        print(a)\n",
    "    try:\n",
    "        assert(np.all(b >= 0.))\n",
    "    except:\n",
    "        print(b)\n",
    "    return(a, b, t)\n",
    "\n",
    "def plot_ellipse(semimajor, semiminor):\n",
    "    "
   ]
  },
  {
   "cell_type": "code",
   "execution_count": null,
   "id": "f7d94bff",
   "metadata": {},
   "outputs": [],
   "source": []
  },
  {
   "cell_type": "markdown",
   "id": "0430e2e7",
   "metadata": {},
   "source": [
    "## Problem 2\n",
    "\n",
    "Now, using the results of Problem 0c, you can evaluate Problem 1 on the Bayes factor as in the main notebook for this problem session."
   ]
  },
  {
   "cell_type": "code",
   "execution_count": null,
   "id": "92bcdaa9",
   "metadata": {},
   "outputs": [],
   "source": []
  }
 ],
 "metadata": {
  "kernelspec": {
   "display_name": "DSFP (Python 3)",
   "language": "python",
   "name": "dsfp_3"
  },
  "language_info": {
   "codemirror_mode": {
    "name": "ipython",
    "version": 3
   },
   "file_extension": ".py",
   "mimetype": "text/x-python",
   "name": "python",
   "nbconvert_exporter": "python",
   "pygments_lexer": "ipython3",
   "version": "3.10.4"
  }
 },
 "nbformat": 4,
 "nbformat_minor": 5
}
